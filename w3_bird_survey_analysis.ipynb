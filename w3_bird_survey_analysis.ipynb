{
  "nbformat": 4,
  "nbformat_minor": 0,
  "metadata": {
    "colab": {
      "provenance": []
    },
    "kernelspec": {
      "name": "python3",
      "display_name": "Python 3"
    },
    "language_info": {
      "name": "python"
    }
  },
  "cells": [
    {
      "cell_type": "code",
      "execution_count": null,
      "metadata": {
        "id": "Q_Ho49DaEQEj"
      },
      "outputs": [],
      "source": [
        "# Import necessary libraries\n",
        "import pandas as pd\n",
        "import matplotlib.pyplot as plt\n",
        "\n",
        "# Load your data\n",
        "file_path = '/path_to_your_file/Dec 2024 eBird W3 Data - Summary.csv'  # Update path\n",
        "data = pd.read_csv(file_path)\n",
        "\n",
        "# Extract relevant columns for bird families (assuming these start from 9th column onward)\n",
        "bird_family_columns = data.columns[9:]  # The bird family columns\n",
        "family_data = data[bird_family_columns]\n",
        "\n",
        "# Include the Site Name for referencing\n",
        "site_names = data['Site Name']\n",
        "\n",
        "# Plotting\n",
        "plt.figure(figsize=(12, 8))\n",
        "family_data.T.plot(kind='bar', stacked=True, figsize=(12, 8), colormap='tab20')  # Stacked bar chart\n",
        "plt.title('Family-level Breakdown of Birds at Each Site')\n",
        "plt.xlabel('Site Name')\n",
        "plt.ylabel('Number of Birds')\n",
        "plt.xticks(range(len(site_names)), site_names, rotation=90)  # Rotate x-axis labels for readability\n",
        "plt.legend(title='Bird Family', bbox_to_anchor=(1.05, 1), loc='upper left')\n",
        "plt.tight_layout()\n",
        "plt.show()\n"
      ]
    }
  ]
}