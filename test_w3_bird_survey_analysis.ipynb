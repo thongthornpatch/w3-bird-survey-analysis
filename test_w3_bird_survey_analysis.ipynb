{
  "nbformat": 4,
  "nbformat_minor": 0,
  "metadata": {
    "colab": {
      "provenance": []
    },
    "kernelspec": {
      "name": "python3",
      "display_name": "Python 3"
    },
    "language_info": {
      "name": "python"
    }
  },
  "cells": [
    {
      "cell_type": "code",
      "execution_count": 1,
      "metadata": {
        "id": "nqnZKnXobilg",
        "outputId": "763b2a98-df7c-4026-c6d1-9358e30100be",
        "colab": {
          "base_uri": "https://localhost:8080/"
        }
      },
      "outputs": [
        {
          "output_type": "stream",
          "name": "stdout",
          "text": [
            "Requirement already satisfied: gspread in /usr/local/lib/python3.11/dist-packages (6.1.4)\n",
            "Requirement already satisfied: gspread_dataframe in /usr/local/lib/python3.11/dist-packages (4.0.0)\n",
            "Requirement already satisfied: google-auth in /usr/local/lib/python3.11/dist-packages (2.38.0)\n",
            "Requirement already satisfied: google-auth-oauthlib>=0.4.1 in /usr/local/lib/python3.11/dist-packages (from gspread) (1.2.1)\n",
            "Requirement already satisfied: pandas>=0.24.0 in /usr/local/lib/python3.11/dist-packages (from gspread_dataframe) (2.2.2)\n",
            "Requirement already satisfied: six>=1.12.0 in /usr/local/lib/python3.11/dist-packages (from gspread_dataframe) (1.17.0)\n",
            "Requirement already satisfied: cachetools<6.0,>=2.0.0 in /usr/local/lib/python3.11/dist-packages (from google-auth) (5.5.1)\n",
            "Requirement already satisfied: pyasn1-modules>=0.2.1 in /usr/local/lib/python3.11/dist-packages (from google-auth) (0.4.1)\n",
            "Requirement already satisfied: rsa<5,>=3.1.4 in /usr/local/lib/python3.11/dist-packages (from google-auth) (4.9)\n",
            "Requirement already satisfied: requests-oauthlib>=0.7.0 in /usr/local/lib/python3.11/dist-packages (from google-auth-oauthlib>=0.4.1->gspread) (2.0.0)\n",
            "Requirement already satisfied: numpy>=1.23.2 in /usr/local/lib/python3.11/dist-packages (from pandas>=0.24.0->gspread_dataframe) (1.26.4)\n",
            "Requirement already satisfied: python-dateutil>=2.8.2 in /usr/local/lib/python3.11/dist-packages (from pandas>=0.24.0->gspread_dataframe) (2.8.2)\n",
            "Requirement already satisfied: pytz>=2020.1 in /usr/local/lib/python3.11/dist-packages (from pandas>=0.24.0->gspread_dataframe) (2025.1)\n",
            "Requirement already satisfied: tzdata>=2022.7 in /usr/local/lib/python3.11/dist-packages (from pandas>=0.24.0->gspread_dataframe) (2025.1)\n",
            "Requirement already satisfied: pyasn1<0.7.0,>=0.4.6 in /usr/local/lib/python3.11/dist-packages (from pyasn1-modules>=0.2.1->google-auth) (0.6.1)\n",
            "Requirement already satisfied: oauthlib>=3.0.0 in /usr/local/lib/python3.11/dist-packages (from requests-oauthlib>=0.7.0->google-auth-oauthlib>=0.4.1->gspread) (3.2.2)\n",
            "Requirement already satisfied: requests>=2.0.0 in /usr/local/lib/python3.11/dist-packages (from requests-oauthlib>=0.7.0->google-auth-oauthlib>=0.4.1->gspread) (2.32.3)\n",
            "Requirement already satisfied: charset-normalizer<4,>=2 in /usr/local/lib/python3.11/dist-packages (from requests>=2.0.0->requests-oauthlib>=0.7.0->google-auth-oauthlib>=0.4.1->gspread) (3.4.1)\n",
            "Requirement already satisfied: idna<4,>=2.5 in /usr/local/lib/python3.11/dist-packages (from requests>=2.0.0->requests-oauthlib>=0.7.0->google-auth-oauthlib>=0.4.1->gspread) (3.10)\n",
            "Requirement already satisfied: urllib3<3,>=1.21.1 in /usr/local/lib/python3.11/dist-packages (from requests>=2.0.0->requests-oauthlib>=0.7.0->google-auth-oauthlib>=0.4.1->gspread) (2.3.0)\n",
            "Requirement already satisfied: certifi>=2017.4.17 in /usr/local/lib/python3.11/dist-packages (from requests>=2.0.0->requests-oauthlib>=0.7.0->google-auth-oauthlib>=0.4.1->gspread) (2025.1.31)\n",
            "Data from Google Sheet:\n",
            "  Submission ID               Common Name       Scientific Name  \\\n",
            "0    S212160259    Spotted Whistling-Duck   Dendrocygna guttata   \n",
            "1    S212160267    Fulvous Whistling-Duck   Dendrocygna bicolor   \n",
            "2    S212160278  Wandering Whistling-Duck   Dendrocygna arcuata   \n",
            "3    S158487375  Wandering Whistling-Duck   Dendrocygna arcuata   \n",
            "4    S156606957     Lesser Whistling-Duck  Dendrocygna javanica   \n",
            "\n",
            "   Taxonomic Order Count State/Province        County Location ID  \\\n",
            "0            229.0    19          ID-MA  Maluku Utara   L38768005   \n",
            "1            239.0     8          MM-04           NaN   L39743759   \n",
            "2            242.0    16         PH-ILI           NaN    L5530663   \n",
            "3            242.0    40          MY-12           NaN    L3081815   \n",
            "4            248.0   122          KH-21           NaN   L28280274   \n",
            "\n",
            "                                            Location   Latitude  ...  \\\n",
            "0                                       Pasar Labuha  -0.635288  ...   \n",
            "1  Paleik lake , Mandalay Region, MM (21.833, 96....  21.833438  ...   \n",
            "2                            Hinactacan Ponds,  Jaro  10.734381  ...   \n",
            "3                                     Tempasuk Plain   6.389897  ...   \n",
            "4                                    Boeng Prek Lpov  10.765899  ...   \n",
            "\n",
            "                   Protocol Duration (Min) All Obs Reported  \\\n",
            "0  eBird - Stationary Count           32.0              1.0   \n",
            "1   eBird - Traveling Count          196.0              1.0   \n",
            "2   eBird - Traveling Count          120.0              1.0   \n",
            "3   eBird - Traveling Count          284.0              1.0   \n",
            "4   eBird - Traveling Count          210.0              1.0   \n",
            "\n",
            "  Distance Traveled (km)  Area Covered (ha)  Number of Observers  \\\n",
            "0                    NaN                NaN                  3.0   \n",
            "1                  2.704                NaN                  1.0   \n",
            "2                  1.000                NaN                  3.0   \n",
            "3                 12.680                NaN                  3.0   \n",
            "4                 25.000                NaN                  4.0   \n",
            "\n",
            "   Breeding Code  Observation Details  \\\n",
            "0            NaN                  NaN   \n",
            "1            NaN                  NaN   \n",
            "2            NaN                  NaN   \n",
            "3            NaN                  NaN   \n",
            "4            NaN                  NaN   \n",
            "\n",
            "                                Checklist Comments  ML Catalog Numbers  \n",
            "0                                              NaN                 NaN  \n",
            "1                                              NaN                 NaN  \n",
            "2                                              NaN                 NaN  \n",
            "3  Winter Waterbird Week (Sabah, Malaysia), Dec 16                 NaN  \n",
            "4                                              NaN                 NaN  \n",
            "\n",
            "[5 rows x 23 columns]\n"
          ]
        }
      ],
      "source": [
        "# Step 0: Install necessary libraries (if not already installed)\n",
        "!pip install --upgrade gspread gspread_dataframe google-auth\n",
        "\n",
        "# Import libraries\n",
        "import pandas as pd\n",
        "import numpy as np\n",
        "import matplotlib.pyplot as plt\n",
        "import gspread\n",
        "from gspread_dataframe import get_as_dataframe\n",
        "import datetime\n",
        "import re\n",
        "\n",
        "# Authenticate your Google account (Colab will prompt you)\n",
        "from google.colab import auth\n",
        "auth.authenticate_user()\n",
        "\n",
        "# Get the default credentials and authorize gspread\n",
        "from google.auth import default\n",
        "creds, _ = default()\n",
        "gc = gspread.authorize(creds)\n",
        "\n",
        "# --- User Configuration ---\n",
        "# Replace with your actual Google Sheet ID (the long string in your sheet URL)\n",
        "sheet_id = \"1VqnpplRwT7m-f0DV5LW62DWh-bDEGQe2LDJpdQkbzKc\"\n",
        "\n",
        "# Open the spreadsheet by its key (ID)\n",
        "spreadsheet = gc.open_by_key(sheet_id)\n",
        "\n",
        "# Open a specific worksheet (for example, \"MyEBirdData\")\n",
        "worksheet = spreadsheet.worksheet(\"MyEBirdData\")\n",
        "\n",
        "# Read the worksheet into a DataFrame (optional)\n",
        "df_raw = get_as_dataframe(worksheet, evaluate_formulas=True, header=0)\n",
        "print(\"Data from Google Sheet:\")\n",
        "print(df_raw.head())\n"
      ]
    },
    {
      "cell_type": "markdown",
      "source": [
        "1. Reading the Sheets into DataFrames\n"
      ],
      "metadata": {
        "id": "arBNduofbxOO"
      }
    },
    {
      "cell_type": "code",
      "source": [
        "# Open the sheet by ID\n",
        "spreadsheet = gc.open_by_key(sheet_id)\n",
        "\n",
        "# Read each worksheet into a DataFrame\n",
        "dfs = {}\n",
        "for key, ws_name in worksheet_names.items():\n",
        "    worksheet = spreadsheet.worksheet(ws_name)\n",
        "    # Use get_as_dataframe; set header=0 (first row) and skip rows if necessary.\n",
        "    df = get_as_dataframe(worksheet, evaluate_formulas=True, header=0)\n",
        "    # Drop rows that are completely empty (if any)\n",
        "    df.dropna(how='all', inplace=True)\n",
        "    dfs[key] = df\n",
        "\n",
        "# For convenience assign each DataFrame to a variable\n",
        "df_raw = dfs[\"raw_data\"]\n",
        "df_dec = dfs[\"dec_data\"]\n",
        "df_phil = dfs[\"phil_raw\"]\n",
        "df_pop = dfs[\"populations\"]\n",
        "\n",
        "# Display basic info\n",
        "print(\"Raw data shape:\", df_raw.shape)\n",
        "print(\"Dec data shape:\", df_dec.shape)\n",
        "print(\"Philippines raw data shape:\", df_phil.shape)\n",
        "print(\"Populations data shape:\", df_pop.shape)\n"
      ],
      "metadata": {
        "id": "SoBS8IOkbk49"
      },
      "execution_count": null,
      "outputs": []
    },
    {
      "cell_type": "markdown",
      "source": [
        "2. Data Cleaning & Converting Types\n"
      ],
      "metadata": {
        "id": "aKKMtwX5b236"
      }
    },
    {
      "cell_type": "code",
      "source": [
        "# Let’s assume your column for Date is labeled \"Date\" (case sensitive)\n",
        "for df in [df_raw, df_dec, df_phil]:\n",
        "    if \"Date\" in df.columns:\n",
        "        # Convert Date column to datetime. You may need to adjust the format.\n",
        "        df[\"Date\"] = pd.to_datetime(df[\"Date\"], errors='coerce')\n",
        "\n",
        "# For the raw Philippines data, also ensure Count is numeric.\n",
        "if \"Count\" in df_phil.columns:\n",
        "    df_phil[\"Count\"] = pd.to_numeric(df_phil[\"Count\"], errors='coerce')\n"
      ],
      "metadata": {
        "id": "VeEBELw9blAF"
      },
      "execution_count": null,
      "outputs": []
    },
    {
      "cell_type": "markdown",
      "source": [
        "3. Build a Population Lookup Data Structure\n"
      ],
      "metadata": {
        "id": "QMEMrVPRb5YP"
      }
    },
    {
      "cell_type": "code",
      "source": [
        "# We assume df_pop has columns such as:\n",
        "# \"Scientific Name\", \"Common Name\", \"Red List\", \"Population Name\", \"1% threshold\", etc.\n",
        "# (If \"1% threshold\" is not the actual header, adjust accordingly.)\n",
        "pop_lookup = {}\n",
        "\n",
        "# Clean column names (strip spaces)\n",
        "df_pop.columns = [col.strip() for col in df_pop.columns]\n",
        "\n",
        "for idx, row in df_pop.iterrows():\n",
        "    sci_name = row[\"Scientific Name\"].strip() if pd.notnull(row[\"Scientific Name\"]) else None\n",
        "    if sci_name is None:\n",
        "        continue\n",
        "    # Create a dictionary with the fields we want; add more fields as needed.\n",
        "    pop_data = {\n",
        "        \"common_name\": row.get(\"Common Name\", None),\n",
        "        \"red_list\": row.get(\"Red List\", None),\n",
        "        \"population_name\": row.get(\"Population Name\", None),\n",
        "        \"iucn\": row.get(\"Red List\", None),  # assuming IUCN status is in the Red List column\n",
        "        \"one_percent_threshold\": row.get(\"1% threshold\", np.nan)  # adjust column name if needed\n",
        "        # you can add additional fields such as breeding/nonbreeding ranges here\n",
        "    }\n",
        "    pop_lookup.setdefault(sci_name, []).append(pop_data)\n",
        "\n",
        "# For debug: print one example\n",
        "example_key = list(pop_lookup.keys())[0]\n",
        "print(\"Example populations for\", example_key, \":\", pop_lookup[example_key])\n"
      ],
      "metadata": {
        "id": "xPITeby_blGV"
      },
      "execution_count": null,
      "outputs": []
    },
    {
      "cell_type": "markdown",
      "source": [
        "4. Define a Waterbird List\n"
      ],
      "metadata": {
        "id": "UIGD8AyOb7LE"
      }
    },
    {
      "cell_type": "code",
      "source": [
        "# For example, let’s assume you have a list of waterbird common names:\n",
        "waterbird_common_names = {\n",
        "    \"Spotted Whistling-Duck\", \"Bar-tailed Godwit\", \"Asian Emerald Dove\", \"Barn Swallow\",\n",
        "    # ... add additional species names here\n",
        "}\n",
        "\n",
        "# Alternatively, if you prefer to match by scientific name, create that set:\n",
        "waterbird_scientific_names = {\n",
        "    \"Dendrocygna guttata\", \"Limosa lapponica\", # etc.\n",
        "}\n",
        "\n",
        "def is_waterbird(row):\n",
        "    # Decide whether to use common name or scientific name\n",
        "    common = row.get(\"Common Name\", \"\")\n",
        "    sci = row.get(\"Scientific Name\", \"\")\n",
        "    return (common in waterbird_common_names) or (sci in waterbird_scientific_names)\n"
      ],
      "metadata": {
        "id": "i77q5ivqblLM"
      },
      "execution_count": null,
      "outputs": []
    },
    {
      "cell_type": "markdown",
      "source": [
        "5. Create a Summary Table by Site\n"
      ],
      "metadata": {
        "id": "f3a9bUH9b_l6"
      }
    },
    {
      "cell_type": "code",
      "source": [
        "def summarize_site(df, pop_lookup):\n",
        "    # We assume that the site name is in the \"Location\" column.\n",
        "    summary_rows = []\n",
        "    # Get unique site names\n",
        "    sites = df[\"Location\"].unique()\n",
        "\n",
        "    for site in sites:\n",
        "        # Filter the data for the current site\n",
        "        df_site = df[df[\"Location\"] == site]\n",
        "\n",
        "        # Get unique species present in this site (we use both Common and Scientific Names)\n",
        "        # Here we assume that each record has a \"Common Name\" and \"Scientific Name\"\n",
        "        species = df_site[[\"Common Name\", \"Scientific Name\"]].drop_duplicates()\n",
        "\n",
        "        for _, sp_row in species.iterrows():\n",
        "            common = sp_row[\"Common Name\"]\n",
        "            sci = sp_row[\"Scientific Name\"]\n",
        "            # Filter rows corresponding to this species at the current site\n",
        "            df_species = df_site[(df_site[\"Common Name\"] == common) & (df_site[\"Scientific Name\"] == sci)]\n",
        "\n",
        "            total_count = df_species[\"Count\"].sum()\n",
        "            num_trips = df_species[\"Date\"].nunique()\n",
        "            avg_count = total_count / num_trips if num_trips > 0 else np.nan\n",
        "            max_count = df_species[\"Count\"].max()\n",
        "            waterbird_flag = is_waterbird(sp_row)\n",
        "\n",
        "            # Look up population data based on scientific name.\n",
        "            pop_info = pop_lookup.get(sci, None)\n",
        "            if pop_info:\n",
        "                # If there are multiple populations, we list them all (or you could choose one)\n",
        "                pop_names = \"; \".join([str(pi.get(\"population_name\", \"\")) for pi in pop_info])\n",
        "                iucn = pop_info[0].get(\"iucn\", None)  # for example, take the first pop's IUCN\n",
        "                one_percent = pop_info[0].get(\"one_percent_threshold\", np.nan)\n",
        "            else:\n",
        "                pop_names = \"\"\n",
        "                iucn = \"\"\n",
        "                one_percent = np.nan\n",
        "\n",
        "            # Check if total count exceeds the 1% threshold (if threshold is available)\n",
        "            exceeds_threshold = (total_count >= one_percent) if not np.isnan(one_percent) else False\n",
        "\n",
        "            summary_rows.append({\n",
        "                \"Site\": site,\n",
        "                \"Common Name\": common,\n",
        "                \"Scientific Name\": sci,\n",
        "                \"isWaterbird\": waterbird_flag,\n",
        "                \"Population(s)\": pop_names,\n",
        "                \"IUCN\": iucn,\n",
        "                \"Count (this month)\": total_count,\n",
        "                \"No. of trips\": num_trips,\n",
        "                \"Average count\": round(avg_count, 2) if not np.isnan(avg_count) else np.nan,\n",
        "                \"Max count\": max_count,\n",
        "                \"1% threshold\": one_percent,\n",
        "                \"Equal or exceed 1%\": exceeds_threshold\n",
        "            })\n",
        "\n",
        "    summary_df = pd.DataFrame(summary_rows)\n",
        "    return summary_df\n",
        "\n",
        "# Generate the summary table for Philippines sites:\n",
        "site_summary = summarize_site(df_phil, pop_lookup)\n",
        "print(site_summary.head())\n",
        "\n",
        "\n",
        "# Group by site to compute totals:\n",
        "site_totals = site_summary.groupby(\"Site\").agg({\n",
        "    \"Count (this month)\": \"sum\",\n",
        "    \"isWaterbird\": lambda x: np.sum(site_summary.loc[x.index, \"Count (this month)\"])  # sum count for waterbirds\n",
        "}).rename(columns={\"Count (this month)\":\"Total Count\", \"isWaterbird\": \"Total Waterbird Count\"})\n",
        "\n",
        "print(site_totals)\n"
      ],
      "metadata": {
        "id": "j7FjWaIJcBKM"
      },
      "execution_count": null,
      "outputs": []
    },
    {
      "cell_type": "markdown",
      "source": [
        "6. Generating Pie Charts\n"
      ],
      "metadata": {
        "id": "r9tvOzkicMzs"
      }
    },
    {
      "cell_type": "code",
      "source": [
        "# Define colours for IUCN categories:\n",
        "iucn_colors = {\n",
        "    \"LC\": \"#60C659\",\n",
        "    \"NT\": \"#60C659\",  # adjust if needed\n",
        "    \"VU\": \"#60C659\",\n",
        "    \"EN\": \"#FC7F3F\",\n",
        "    \"CR\": \"#D81E05\"\n",
        "}\n",
        "\n",
        "def plot_site_pie_chart(df, site, iucn_colors):\n",
        "    # Filter summary rows for the site and only waterbirds\n",
        "    df_site = df[(df[\"Site\"] == site) & (df[\"isWaterbird\"] == True)]\n",
        "    if df_site.empty:\n",
        "        print(f\"No waterbird data for site {site}\")\n",
        "        return\n",
        "\n",
        "    # We will sum the counts per IUCN category.\n",
        "    # Some rows might have blank IUCN; fill them as \"Unknown\"\n",
        "    df_site[\"IUCN_clean\"] = df_site[\"IUCN\"].fillna(\"Unknown\")\n",
        "    counts = df_site.groupby(\"IUCN_clean\")[\"Count (this month)\"].sum()\n",
        "\n",
        "    # Use colours from our dictionary (or default if not found)\n",
        "    colors = [iucn_colors.get(cat, \"#cccccc\") for cat in counts.index]\n",
        "\n",
        "    plt.figure(figsize=(6,6))\n",
        "    plt.pie(counts, labels=counts.index, autopct=\"%1.1f%%\", colors=colors, startangle=90)\n",
        "    plt.title(f\"IUCN Category Breakdown for {site}\\n(Total waterbird count = {df_site['Count (this month)'].sum()})\")\n",
        "    plt.show()\n",
        "\n",
        "# Example: plot for one site\n",
        "for site in site_summary[\"Site\"].unique():\n",
        "    plot_site_pie_chart(site_summary, site, iucn_colors)\n"
      ],
      "metadata": {
        "id": "I_dQ9YD4cNXS"
      },
      "execution_count": null,
      "outputs": []
    }
  ]
}